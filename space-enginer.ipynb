{
 "cells": [
  {
   "cell_type": "code",
   "execution_count": 1,
   "id": "9aa94a6b",
   "metadata": {},
   "outputs": [],
   "source": [
    "import pandas as pd\n",
    "import csv\n",
    "import re\n",
    "import requests\n",
    "import json\n",
    "import faiss\n",
    "import numpy as np\n",
    "import requests\n"
   ]
  },
  {
   "cell_type": "code",
   "execution_count": 2,
   "id": "6d8ea469",
   "metadata": {},
   "outputs": [],
   "source": [
    "def fetch_space_biology_data_bioc(pmcid: str):\n",
    "\n",
    "    \n",
    "    url = f\"https://www.ncbi.nlm.nih.gov/research/bionlp/RESTful/pmcoa.cgi/BioC_json/{pmcid}/unicode\"\n",
    "    response = requests.get(url)\n",
    "\n",
    "    if response.status_code != 200:\n",
    "        print(f\"Error fetching {pmcid}: {response.status_code}\")\n",
    "        return None\n",
    "\n",
    "    try:\n",
    "        paper_json = response.json()\n",
    "    except Exception as e:\n",
    "        print(f\"Failed to parse JSON for {pmcid}: {e}\")\n",
    "        return None\n",
    "\n",
    "    return paper_json\n",
    "    "
   ]
  },
  {
   "cell_type": "code",
   "execution_count": 3,
   "id": "24f44131",
   "metadata": {},
   "outputs": [],
   "source": [
    "\n",
    "response_data = fetch_space_biology_data_bioc(\"PMC3630201\")"
   ]
  },
  {
   "cell_type": "code",
   "execution_count": null,
   "id": "e590c189-1a01-43ae-8eef-5679806a2c92",
   "metadata": {},
   "outputs": [],
   "source": []
  }
 ],
 "metadata": {
  "kernelspec": {
   "display_name": "Python 3 (ipykernel)",
   "language": "python",
   "name": "python3"
  },
  "language_info": {
   "codemirror_mode": {
    "name": "ipython",
    "version": 3
   },
   "file_extension": ".py",
   "mimetype": "text/x-python",
   "name": "python",
   "nbconvert_exporter": "python",
   "pygments_lexer": "ipython3",
   "version": "3.13.7"
  }
 },
 "nbformat": 4,
 "nbformat_minor": 5
}
